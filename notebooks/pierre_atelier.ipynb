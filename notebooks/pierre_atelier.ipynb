{
 "cells": [
  {
   "cell_type": "code",
   "execution_count": 5,
   "metadata": {},
   "outputs": [],
   "source": [
    "import pandas as pd\n",
    "import numpy as np\n",
    "import matplotlib.pyplot as plt\n",
    "import string\n"
   ]
  },
  {
   "cell_type": "code",
   "execution_count": 6,
   "metadata": {},
   "outputs": [],
   "source": [
    "import warnings\n",
    "warnings.filterwarnings('ignore')\n"
   ]
  },
  {
   "cell_type": "code",
   "execution_count": 7,
   "metadata": {},
   "outputs": [
    {
     "data": {
      "text/html": [
       "<div>\n",
       "<style scoped>\n",
       "    .dataframe tbody tr th:only-of-type {\n",
       "        vertical-align: middle;\n",
       "    }\n",
       "\n",
       "    .dataframe tbody tr th {\n",
       "        vertical-align: top;\n",
       "    }\n",
       "\n",
       "    .dataframe thead th {\n",
       "        text-align: right;\n",
       "    }\n",
       "</style>\n",
       "<table border=\"1\" class=\"dataframe\">\n",
       "  <thead>\n",
       "    <tr style=\"text-align: right;\">\n",
       "      <th></th>\n",
       "      <th>ID</th>\n",
       "      <th>review_content</th>\n",
       "      <th>review_title</th>\n",
       "      <th>review_stars</th>\n",
       "      <th>product</th>\n",
       "      <th>Target</th>\n",
       "    </tr>\n",
       "  </thead>\n",
       "  <tbody>\n",
       "    <tr>\n",
       "      <th>0</th>\n",
       "      <td>0</td>\n",
       "      <td>En appelant un acheteur pour demander si l'écr...</td>\n",
       "      <td>La Police s'inscrit en acheteur privé sur Pric...</td>\n",
       "      <td>5</td>\n",
       "      <td>2fbb619e3606f9b7c213e858a109cda771aa2c47ce50d5...</td>\n",
       "      <td>0</td>\n",
       "    </tr>\n",
       "    <tr>\n",
       "      <th>1</th>\n",
       "      <td>1</td>\n",
       "      <td>Alors, là, on a affaire au plus grand Navet ja...</td>\n",
       "      <td>Chef D'Oeuvre Absolu en vue...</td>\n",
       "      <td>5</td>\n",
       "      <td>7b56d9d378d9e999d293f301ac43d044cd7b4786d09afb...</td>\n",
       "      <td>1</td>\n",
       "    </tr>\n",
       "    <tr>\n",
       "      <th>2</th>\n",
       "      <td>2</td>\n",
       "      <td>Effet garanti sur la terrase. Ils donnent immé...</td>\n",
       "      <td>Effet garanti sur la terrase. Ils donnent immé...</td>\n",
       "      <td>3</td>\n",
       "      <td>7b37bf5dcb2fafd9229897910318a7dfa11a04ca36893c...</td>\n",
       "      <td>0</td>\n",
       "    </tr>\n",
       "    <tr>\n",
       "      <th>3</th>\n",
       "      <td>3</td>\n",
       "      <td>tres bon rapport qualite prix tre pratique en ...</td>\n",
       "      <td>bon produit</td>\n",
       "      <td>4</td>\n",
       "      <td>77d2dbd504b933ab3aaf7cb0cd81c22f7c3549012f4f88...</td>\n",
       "      <td>1</td>\n",
       "    </tr>\n",
       "    <tr>\n",
       "      <th>4</th>\n",
       "      <td>4</td>\n",
       "      <td>Ordinateur de bureau trés bien pour quelqu'un ...</td>\n",
       "      <td>Apple Power MAC G4</td>\n",
       "      <td>3</td>\n",
       "      <td>f574512e7d2dd1dd73c7f8f804bf16f14c932c5651a01b...</td>\n",
       "      <td>1</td>\n",
       "    </tr>\n",
       "    <tr>\n",
       "      <th>...</th>\n",
       "      <td>...</td>\n",
       "      <td>...</td>\n",
       "      <td>...</td>\n",
       "      <td>...</td>\n",
       "      <td>...</td>\n",
       "      <td>...</td>\n",
       "    </tr>\n",
       "    <tr>\n",
       "      <th>59995</th>\n",
       "      <td>59995</td>\n",
       "      <td>Bonjour, je suis intereser par votre annonce e...</td>\n",
       "      <td>moto</td>\n",
       "      <td>5</td>\n",
       "      <td>675ebad7919f00b9cb4adb1469054240d8c76018dc27d2...</td>\n",
       "      <td>1</td>\n",
       "    </tr>\n",
       "    <tr>\n",
       "      <th>59996</th>\n",
       "      <td>59996</td>\n",
       "      <td>Voline nous raconte en détail un aspect beauco...</td>\n",
       "      <td>Un témoignage fort contre l'oubli</td>\n",
       "      <td>4</td>\n",
       "      <td>a15a274f7d11ed085c745246bb078098e501198956eeeb...</td>\n",
       "      <td>1</td>\n",
       "    </tr>\n",
       "    <tr>\n",
       "      <th>59997</th>\n",
       "      <td>59997</td>\n",
       "      <td>D'une bonne matière flexible ce double saura s...</td>\n",
       "      <td>Double plaisir</td>\n",
       "      <td>5</td>\n",
       "      <td>32a26794184ba74118c581b1659e85c2133227e18e97c2...</td>\n",
       "      <td>1</td>\n",
       "    </tr>\n",
       "    <tr>\n",
       "      <th>59998</th>\n",
       "      <td>59998</td>\n",
       "      <td>très bien pour compléter des collections de fè...</td>\n",
       "      <td>tres bien</td>\n",
       "      <td>5</td>\n",
       "      <td>018af320f0b08e59032011e0bbc68d42f9486833c0482e...</td>\n",
       "      <td>1</td>\n",
       "    </tr>\n",
       "    <tr>\n",
       "      <th>59999</th>\n",
       "      <td>59999</td>\n",
       "      <td>Retrouvez Louis De funès, Michel Modo, Guy Gro...</td>\n",
       "      <td>Un Classique de De Funès !</td>\n",
       "      <td>5</td>\n",
       "      <td>89875e949f97865a14907a6a6f6da869836a0004adabf0...</td>\n",
       "      <td>0</td>\n",
       "    </tr>\n",
       "  </tbody>\n",
       "</table>\n",
       "<p>60000 rows × 6 columns</p>\n",
       "</div>"
      ],
      "text/plain": [
       "          ID                                     review_content  \\\n",
       "0          0  En appelant un acheteur pour demander si l'écr...   \n",
       "1          1  Alors, là, on a affaire au plus grand Navet ja...   \n",
       "2          2  Effet garanti sur la terrase. Ils donnent immé...   \n",
       "3          3  tres bon rapport qualite prix tre pratique en ...   \n",
       "4          4  Ordinateur de bureau trés bien pour quelqu'un ...   \n",
       "...      ...                                                ...   \n",
       "59995  59995  Bonjour, je suis intereser par votre annonce e...   \n",
       "59996  59996  Voline nous raconte en détail un aspect beauco...   \n",
       "59997  59997  D'une bonne matière flexible ce double saura s...   \n",
       "59998  59998  très bien pour compléter des collections de fè...   \n",
       "59999  59999  Retrouvez Louis De funès, Michel Modo, Guy Gro...   \n",
       "\n",
       "                                            review_title  review_stars  \\\n",
       "0      La Police s'inscrit en acheteur privé sur Pric...             5   \n",
       "1                         Chef D'Oeuvre Absolu en vue...             5   \n",
       "2      Effet garanti sur la terrase. Ils donnent immé...             3   \n",
       "3                                            bon produit             4   \n",
       "4                                     Apple Power MAC G4             3   \n",
       "...                                                  ...           ...   \n",
       "59995                                               moto             5   \n",
       "59996                  Un témoignage fort contre l'oubli             4   \n",
       "59997                                     Double plaisir             5   \n",
       "59998                                          tres bien             5   \n",
       "59999                         Un Classique de De Funès !             5   \n",
       "\n",
       "                                                 product  Target  \n",
       "0      2fbb619e3606f9b7c213e858a109cda771aa2c47ce50d5...       0  \n",
       "1      7b56d9d378d9e999d293f301ac43d044cd7b4786d09afb...       1  \n",
       "2      7b37bf5dcb2fafd9229897910318a7dfa11a04ca36893c...       0  \n",
       "3      77d2dbd504b933ab3aaf7cb0cd81c22f7c3549012f4f88...       1  \n",
       "4      f574512e7d2dd1dd73c7f8f804bf16f14c932c5651a01b...       1  \n",
       "...                                                  ...     ...  \n",
       "59995  675ebad7919f00b9cb4adb1469054240d8c76018dc27d2...       1  \n",
       "59996  a15a274f7d11ed085c745246bb078098e501198956eeeb...       1  \n",
       "59997  32a26794184ba74118c581b1659e85c2133227e18e97c2...       1  \n",
       "59998  018af320f0b08e59032011e0bbc68d42f9486833c0482e...       1  \n",
       "59999  89875e949f97865a14907a6a6f6da869836a0004adabf0...       0  \n",
       "\n",
       "[60000 rows x 6 columns]"
      ]
     },
     "execution_count": 7,
     "metadata": {},
     "output_type": "execute_result"
    }
   ],
   "source": [
    "data = pd.read_csv(r\"./train.csv\", delimiter=\";\")\n",
    "data"
   ]
  },
  {
   "cell_type": "code",
   "execution_count": 8,
   "metadata": {},
   "outputs": [
    {
     "data": {
      "text/plain": [
       "ID                 int64\n",
       "review_content    object\n",
       "review_title      object\n",
       "review_stars       int64\n",
       "product           object\n",
       "Target             int64\n",
       "dtype: object"
      ]
     },
     "execution_count": 8,
     "metadata": {},
     "output_type": "execute_result"
    }
   ],
   "source": [
    "data.dtypes"
   ]
  },
  {
   "cell_type": "code",
   "execution_count": 9,
   "metadata": {},
   "outputs": [],
   "source": [
    "data = data.drop(columns=[\"product\"])"
   ]
  },
  {
   "cell_type": "code",
   "execution_count": 10,
   "metadata": {},
   "outputs": [
    {
     "name": "stdout",
     "output_type": "stream",
     "text": [
      "<class 'pandas.core.frame.DataFrame'>\n",
      "RangeIndex: 60000 entries, 0 to 59999\n",
      "Data columns (total 5 columns):\n",
      " #   Column          Non-Null Count  Dtype \n",
      "---  ------          --------------  ----- \n",
      " 0   ID              60000 non-null  int64 \n",
      " 1   review_content  60000 non-null  object\n",
      " 2   review_title    59997 non-null  object\n",
      " 3   review_stars    60000 non-null  int64 \n",
      " 4   Target          60000 non-null  int64 \n",
      "dtypes: int64(3), object(2)\n",
      "memory usage: 2.3+ MB\n"
     ]
    }
   ],
   "source": [
    "data.info()"
   ]
  },
  {
   "cell_type": "code",
   "execution_count": 11,
   "metadata": {},
   "outputs": [
    {
     "name": "stdout",
     "output_type": "stream",
     "text": [
      "review_stars\n",
      "5    38405\n",
      "4    11307\n",
      "3     4586\n",
      "1     3895\n",
      "2     1807\n",
      "Name: count, dtype: int64\n",
      "Proportion de 1 étoiles : 0.06491666666666666\n",
      "Proportion de 2 étoiles : 0.030116666666666667\n",
      "Proportion de 3 étoiles : 0.07643333333333334\n",
      "Proportion de 4 étoiles : 0.18845\n",
      "Proportion de 5 étoiles : 0.6400833333333333\n"
     ]
    }
   ],
   "source": [
    "print(data[\"review_stars\"].value_counts())\n",
    "for i in range(1, 6):\n",
    "    print(f\"Proportion de {i} étoiles :\", data[\"review_stars\"].value_counts()[i]/len(data))"
   ]
  },
  {
   "cell_type": "code",
   "execution_count": 12,
   "metadata": {},
   "outputs": [
    {
     "name": "stdout",
     "output_type": "stream",
     "text": [
      "Target\n",
      "1    33291\n",
      "0    26709\n",
      "Name: count, dtype: int64\n",
      "proportion de 0 :  0.44515\n",
      "proportion de 1 :  0.55485\n"
     ]
    }
   ],
   "source": [
    "print(data[\"Target\"].value_counts())\n",
    "print(\"proportion de 0 : \", data[\"Target\"].value_counts()[0]/len(data))\n",
    "print(\"proportion de 1 : \", data[\"Target\"].value_counts()[1]/len(data))"
   ]
  },
  {
   "cell_type": "code",
   "execution_count": 13,
   "metadata": {},
   "outputs": [
    {
     "data": {
      "text/plain": [
       "<Axes: >"
      ]
     },
     "execution_count": 13,
     "metadata": {},
     "output_type": "execute_result"
    },
    {
     "data": {
      "image/png": "[encoded data removed]",
      "text/plain": [
       "<Figure size 640x480 with 1 Axes>"
      ]
     },
     "metadata": {},
     "output_type": "display_data"
    }
   ],
   "source": [
    "data[\"Target\"].hist()"
   ]
  },
  {
   "cell_type": "code",
   "execution_count": 14,
   "metadata": {},
   "outputs": [
    {
     "data": {
      "text/plain": [
       "(array([ 3895.,  1807.,  4586., 11307., 38405.]),\n",
       " array([1. , 1.8, 2.6, 3.4, 4.2, 5. ]),\n",
       " <BarContainer object of 5 artists>)"
      ]
     },
     "execution_count": 14,
     "metadata": {},
     "output_type": "execute_result"
    },
    {
     "data": {
      "image/png": "[encoded data removed]",
      "text/plain": [
       "<Figure size 640x480 with 1 Axes>"
      ]
     },
     "metadata": {},
     "output_type": "display_data"
    }
   ],
   "source": [
    "plt.hist(data[\"review_stars\"], bins=5)"
   ]
  },
  {
   "cell_type": "markdown",
   "metadata": {},
   "source": [
    "TODO : \n",
    "- engineer les données pour extraire des features syntaxiques\n",
    "- split de manière élégante et réfléchie\n",
    "- contrsuire un modèle dessus\n",
    "- ne pas toucher à l'échantillon test\n"
   ]
  },
  {
   "cell_type": "code",
   "execution_count": 15,
   "metadata": {},
   "outputs": [],
   "source": [
    "\n",
    "def syntaxic_feature_engineer(df, label):\n",
    "    x = df\n",
    "    x[\"nb_phrases\"] = [len(x) for x in df[\"review_content\"]]\n",
    "\n",
    "def classify_sentence(sentence):\n",
    "    sentence = sentence.strip()\n",
    "    \n",
    "    if sentence.endswith('!'):\n",
    "        return 0 # exclamatory\n",
    "    \n",
    "    elif sentence.endswith('?'):\n",
    "        return 1 #interogative\n",
    "    \n",
    "    elif sentence[0].lower() in ['c', 'g', 'm', 't', 's', 'h', 'w', 'l', 'p', 'b', 'r', 'f', 'd', 'o', 'a', 'e', 'k']:\n",
    "        return 2 # imperative\n",
    "    \n",
    "    return 3\n",
    "\n",
    "def detect_sentiment(sentence):\n",
    "    sentence = sentence.lower()\n",
    "    \n",
    "    likes = ['like', 'love', 'enjoy', 'appreciate']\n",
    "    dislikes = ['dislike', 'hate', 'detest', 'not like', \"don't like\"]\n",
    "\n",
    "    negation = any(neg_word in sentence for neg_word in [\"not\", \"don't\", \"doesn't\", \"isn't\", \"aren't\", \"never\"])\n",
    "\n",
    "    for word in likes:\n",
    "        if word in sentence:\n",
    "            return 1 if not negation else -1 #return like else dislike\n",
    "\n",
    "    for word in dislikes:\n",
    "        if word in sentence:\n",
    "            return -1 if not negation else 1 #return dislike else like\n",
    "\n",
    "    return 0"
   ]
  },
  {
   "cell_type": "code",
   "execution_count": 16,
   "metadata": {},
   "outputs": [],
   "source": [
    "def engineer_column(df, label):\n",
    "    symbols = [\"!\", \"?\", \":(\", \"TT\", \"-_-\"]\n",
    "    x = df\n",
    "    x[label] = x[label].astype(str)\n",
    "    x[f\"{label}_length\"] = df[label].apply(lambda x: len(x.split(\" \")))\n",
    "    x[f\"{label}_nb_punc\"] = df[label].apply(lambda x: sum(1 for char in x if char in symbols))\n",
    "    x[f\"{label}_type\"] = df[label].apply(lambda x: classify_sentence(x))\n",
    "    x[f\"{label}_sentiment\"] = df[label].apply(lambda x: detect_sentiment(x))\n",
    "\n",
    "    return x    "
   ]
  },
  {
   "cell_type": "code",
   "execution_count": 17,
   "metadata": {},
   "outputs": [],
   "source": [
    "data = engineer_column(data, \"review_title\")\n",
    "data = engineer_column(data, \"review_content\")"
   ]
  },
  {
   "cell_type": "code",
   "execution_count": 18,
   "metadata": {},
   "outputs": [
    {
     "data": {
      "text/html": [
       "<div>\n",
       "<style scoped>\n",
       "    .dataframe tbody tr th:only-of-type {\n",
       "        vertical-align: middle;\n",
       "    }\n",
       "\n",
       "    .dataframe tbody tr th {\n",
       "        vertical-align: top;\n",
       "    }\n",
       "\n",
       "    .dataframe thead th {\n",
       "        text-align: right;\n",
       "    }\n",
       "</style>\n",
       "<table border=\"1\" class=\"dataframe\">\n",
       "  <thead>\n",
       "    <tr style=\"text-align: right;\">\n",
       "      <th></th>\n",
       "      <th>ID</th>\n",
       "      <th>review_content</th>\n",
       "      <th>review_title</th>\n",
       "      <th>review_stars</th>\n",
       "      <th>Target</th>\n",
       "      <th>review_title_length</th>\n",
       "      <th>review_title_nb_punc</th>\n",
       "      <th>review_title_type</th>\n",
       "      <th>review_title_sentiment</th>\n",
       "      <th>review_content_length</th>\n",
       "      <th>review_content_nb_punc</th>\n",
       "      <th>review_content_type</th>\n",
       "      <th>review_content_sentiment</th>\n",
       "    </tr>\n",
       "  </thead>\n",
       "  <tbody>\n",
       "    <tr>\n",
       "      <th>0</th>\n",
       "      <td>0</td>\n",
       "      <td>En appelant un acheteur pour demander si l'écr...</td>\n",
       "      <td>La Police s'inscrit en acheteur privé sur Pric...</td>\n",
       "      <td>5</td>\n",
       "      <td>0</td>\n",
       "      <td>8</td>\n",
       "      <td>0</td>\n",
       "      <td>2</td>\n",
       "      <td>0</td>\n",
       "      <td>62</td>\n",
       "      <td>0</td>\n",
       "      <td>2</td>\n",
       "      <td>0</td>\n",
       "    </tr>\n",
       "    <tr>\n",
       "      <th>1</th>\n",
       "      <td>1</td>\n",
       "      <td>Alors, là, on a affaire au plus grand Navet ja...</td>\n",
       "      <td>Chef D'Oeuvre Absolu en vue...</td>\n",
       "      <td>5</td>\n",
       "      <td>1</td>\n",
       "      <td>5</td>\n",
       "      <td>0</td>\n",
       "      <td>2</td>\n",
       "      <td>0</td>\n",
       "      <td>179</td>\n",
       "      <td>25</td>\n",
       "      <td>0</td>\n",
       "      <td>0</td>\n",
       "    </tr>\n",
       "    <tr>\n",
       "      <th>2</th>\n",
       "      <td>2</td>\n",
       "      <td>Effet garanti sur la terrase. Ils donnent immé...</td>\n",
       "      <td>Effet garanti sur la terrase. Ils donnent immé...</td>\n",
       "      <td>3</td>\n",
       "      <td>0</td>\n",
       "      <td>17</td>\n",
       "      <td>0</td>\n",
       "      <td>2</td>\n",
       "      <td>0</td>\n",
       "      <td>31</td>\n",
       "      <td>0</td>\n",
       "      <td>2</td>\n",
       "      <td>0</td>\n",
       "    </tr>\n",
       "    <tr>\n",
       "      <th>3</th>\n",
       "      <td>3</td>\n",
       "      <td>tres bon rapport qualite prix tre pratique en ...</td>\n",
       "      <td>bon produit</td>\n",
       "      <td>4</td>\n",
       "      <td>1</td>\n",
       "      <td>2</td>\n",
       "      <td>0</td>\n",
       "      <td>2</td>\n",
       "      <td>0</td>\n",
       "      <td>18</td>\n",
       "      <td>0</td>\n",
       "      <td>2</td>\n",
       "      <td>0</td>\n",
       "    </tr>\n",
       "    <tr>\n",
       "      <th>4</th>\n",
       "      <td>4</td>\n",
       "      <td>Ordinateur de bureau trés bien pour quelqu'un ...</td>\n",
       "      <td>Apple Power MAC G4</td>\n",
       "      <td>3</td>\n",
       "      <td>1</td>\n",
       "      <td>4</td>\n",
       "      <td>0</td>\n",
       "      <td>2</td>\n",
       "      <td>0</td>\n",
       "      <td>21</td>\n",
       "      <td>0</td>\n",
       "      <td>2</td>\n",
       "      <td>0</td>\n",
       "    </tr>\n",
       "    <tr>\n",
       "      <th>...</th>\n",
       "      <td>...</td>\n",
       "      <td>...</td>\n",
       "      <td>...</td>\n",
       "      <td>...</td>\n",
       "      <td>...</td>\n",
       "      <td>...</td>\n",
       "      <td>...</td>\n",
       "      <td>...</td>\n",
       "      <td>...</td>\n",
       "      <td>...</td>\n",
       "      <td>...</td>\n",
       "      <td>...</td>\n",
       "      <td>...</td>\n",
       "    </tr>\n",
       "    <tr>\n",
       "      <th>59995</th>\n",
       "      <td>59995</td>\n",
       "      <td>Bonjour, je suis intereser par votre annonce e...</td>\n",
       "      <td>moto</td>\n",
       "      <td>5</td>\n",
       "      <td>1</td>\n",
       "      <td>1</td>\n",
       "      <td>0</td>\n",
       "      <td>2</td>\n",
       "      <td>0</td>\n",
       "      <td>19</td>\n",
       "      <td>1</td>\n",
       "      <td>1</td>\n",
       "      <td>0</td>\n",
       "    </tr>\n",
       "    <tr>\n",
       "      <th>59996</th>\n",
       "      <td>59996</td>\n",
       "      <td>Voline nous raconte en détail un aspect beauco...</td>\n",
       "      <td>Un témoignage fort contre l'oubli</td>\n",
       "      <td>4</td>\n",
       "      <td>1</td>\n",
       "      <td>5</td>\n",
       "      <td>0</td>\n",
       "      <td>3</td>\n",
       "      <td>0</td>\n",
       "      <td>83</td>\n",
       "      <td>0</td>\n",
       "      <td>3</td>\n",
       "      <td>0</td>\n",
       "    </tr>\n",
       "    <tr>\n",
       "      <th>59997</th>\n",
       "      <td>59997</td>\n",
       "      <td>D'une bonne matière flexible ce double saura s...</td>\n",
       "      <td>Double plaisir</td>\n",
       "      <td>5</td>\n",
       "      <td>1</td>\n",
       "      <td>2</td>\n",
       "      <td>0</td>\n",
       "      <td>2</td>\n",
       "      <td>0</td>\n",
       "      <td>12</td>\n",
       "      <td>0</td>\n",
       "      <td>2</td>\n",
       "      <td>0</td>\n",
       "    </tr>\n",
       "    <tr>\n",
       "      <th>59998</th>\n",
       "      <td>59998</td>\n",
       "      <td>très bien pour compléter des collections de fè...</td>\n",
       "      <td>tres bien</td>\n",
       "      <td>5</td>\n",
       "      <td>1</td>\n",
       "      <td>2</td>\n",
       "      <td>0</td>\n",
       "      <td>2</td>\n",
       "      <td>0</td>\n",
       "      <td>13</td>\n",
       "      <td>0</td>\n",
       "      <td>2</td>\n",
       "      <td>0</td>\n",
       "    </tr>\n",
       "    <tr>\n",
       "      <th>59999</th>\n",
       "      <td>59999</td>\n",
       "      <td>Retrouvez Louis De funès, Michel Modo, Guy Gro...</td>\n",
       "      <td>Un Classique de De Funès !</td>\n",
       "      <td>5</td>\n",
       "      <td>0</td>\n",
       "      <td>6</td>\n",
       "      <td>1</td>\n",
       "      <td>0</td>\n",
       "      <td>0</td>\n",
       "      <td>64</td>\n",
       "      <td>0</td>\n",
       "      <td>2</td>\n",
       "      <td>0</td>\n",
       "    </tr>\n",
       "  </tbody>\n",
       "</table>\n",
       "<p>60000 rows × 13 columns</p>\n",
       "</div>"
      ],
      "text/plain": [
       "          ID                                     review_content  \\\n",
       "0          0  En appelant un acheteur pour demander si l'écr...   \n",
       "1          1  Alors, là, on a affaire au plus grand Navet ja...   \n",
       "2          2  Effet garanti sur la terrase. Ils donnent immé...   \n",
       "3          3  tres bon rapport qualite prix tre pratique en ...   \n",
       "4          4  Ordinateur de bureau trés bien pour quelqu'un ...   \n",
       "...      ...                                                ...   \n",
       "59995  59995  Bonjour, je suis intereser par votre annonce e...   \n",
       "59996  59996  Voline nous raconte en détail un aspect beauco...   \n",
       "59997  59997  D'une bonne matière flexible ce double saura s...   \n",
       "59998  59998  très bien pour compléter des collections de fè...   \n",
       "59999  59999  Retrouvez Louis De funès, Michel Modo, Guy Gro...   \n",
       "\n",
       "                                            review_title  review_stars  \\\n",
       "0      La Police s'inscrit en acheteur privé sur Pric...             5   \n",
       "1                         Chef D'Oeuvre Absolu en vue...             5   \n",
       "2      Effet garanti sur la terrase. Ils donnent immé...             3   \n",
       "3                                            bon produit             4   \n",
       "4                                     Apple Power MAC G4             3   \n",
       "...                                                  ...           ...   \n",
       "59995                                               moto             5   \n",
       "59996                  Un témoignage fort contre l'oubli             4   \n",
       "59997                                     Double plaisir             5   \n",
       "59998                                          tres bien             5   \n",
       "59999                         Un Classique de De Funès !             5   \n",
       "\n",
       "       Target  review_title_length  review_title_nb_punc  review_title_type  \\\n",
       "0           0                    8                     0                  2   \n",
       "1           1                    5                     0                  2   \n",
       "2           0                   17                     0                  2   \n",
       "3           1                    2                     0                  2   \n",
       "4           1                    4                     0                  2   \n",
       "...       ...                  ...                   ...                ...   \n",
       "59995       1                    1                     0                  2   \n",
       "59996       1                    5                     0                  3   \n",
       "59997       1                    2                     0                  2   \n",
       "59998       1                    2                     0                  2   \n",
       "59999       0                    6                     1                  0   \n",
       "\n",
       "       review_title_sentiment  review_content_length  review_content_nb_punc  \\\n",
       "0                           0                     62                       0   \n",
       "1                           0                    179                      25   \n",
       "2                           0                     31                       0   \n",
       "3                           0                     18                       0   \n",
       "4                           0                     21                       0   \n",
       "...                       ...                    ...                     ...   \n",
       "59995                       0                     19                       1   \n",
       "59996                       0                     83                       0   \n",
       "59997                       0                     12                       0   \n",
       "59998                       0                     13                       0   \n",
       "59999                       0                     64                       0   \n",
       "\n",
       "       review_content_type  review_content_sentiment  \n",
       "0                        2                         0  \n",
       "1                        0                         0  \n",
       "2                        2                         0  \n",
       "3                        2                         0  \n",
       "4                        2                         0  \n",
       "...                    ...                       ...  \n",
       "59995                    1                         0  \n",
       "59996                    3                         0  \n",
       "59997                    2                         0  \n",
       "59998                    2                         0  \n",
       "59999                    2                         0  \n",
       "\n",
       "[60000 rows x 13 columns]"
      ]
     },
     "execution_count": 18,
     "metadata": {},
     "output_type": "execute_result"
    }
   ],
   "source": [
    "data"
   ]
  },
  {
   "cell_type": "code",
   "execution_count": 19,
   "metadata": {},
   "outputs": [
    {
     "data": {
      "text/plain": [
       "review_content_sentiment\n",
       " 0    59847\n",
       " 1       99\n",
       "-1       54\n",
       "Name: count, dtype: int64"
      ]
     },
     "execution_count": 19,
     "metadata": {},
     "output_type": "execute_result"
    }
   ],
   "source": [
    "data[\"review_content_sentiment\"].value_counts()"
   ]
  },
  {
   "cell_type": "markdown",
   "metadata": {},
   "source": [
    "# Splitting the dataset"
   ]
  },
  {
   "cell_type": "code",
   "execution_count": 20,
   "metadata": {},
   "outputs": [],
   "source": [
    "from sklearn.model_selection import train_test_split\n",
    "\n",
    "y = data[\"Target\"]\n",
    "X = data.drop(columns=[\"Target\", \"review_title\", \"review_content\"])\n",
    "x_train, x_test, y_train, y_test = train_test_split(X, y, test_size=0.3, shuffle=True, random_state=42)\n",
    "x_train, x_val, y_train, y_val = train_test_split(x_train, y_train, test_size=0.3, shuffle=True, random_state=42)"
   ]
  },
  {
   "cell_type": "code",
   "execution_count": 21,
   "metadata": {},
   "outputs": [
    {
     "name": "stdout",
     "output_type": "stream",
     "text": [
      "              precision    recall  f1-score   support\n",
      "\n",
      "           0       0.49      0.49      0.49      8009\n",
      "           1       0.59      0.58      0.59      9991\n",
      "\n",
      "    accuracy                           0.54     18000\n",
      "   macro avg       0.54      0.54      0.54     18000\n",
      "weighted avg       0.54      0.54      0.54     18000\n",
      "\n"
     ]
    }
   ],
   "source": [
    "from sklearn.model_selection import cross_val_score\n",
    "from sklearn.tree import DecisionTreeClassifier\n",
    "from sklearn.metrics import classification_report\n",
    "from sklearn.model_selection import KFold\n",
    "from sklearn.model_selection import GridSearchCV\n",
    "\n",
    "kfold = KFold(n_splits=5, random_state=42, shuffle=True)\n",
    "clf = DecisionTreeClassifier(random_state=0, max_depth=100).fit(x_train, y_train)\n",
    "cross_val_score(clf, x_val, y_val, cv=kfold)\n",
    "\n",
    "y_pred = clf.predict(x_test)\n",
    "print(classification_report(y_test, y_pred))"
   ]
  },
  {
   "cell_type": "code",
   "execution_count": 22,
   "metadata": {},
   "outputs": [
    {
     "name": "stdout",
     "output_type": "stream",
     "text": [
      "Fitting 5 folds for each of 180 candidates, totalling 900 fits\n",
      "Best Parameters: {'criterion': 'entropy', 'max_depth': 10, 'min_samples_leaf': 1, 'min_samples_split': 2}\n"
     ]
    }
   ],
   "source": [
    "dt_classifier = DecisionTreeClassifier()\n",
    "\n",
    "param_grid = {\n",
    "    'criterion': ['gini', 'entropy'],\n",
    "    'max_depth': [None, 10, 20, 30, 40, 50],\n",
    "    'min_samples_split': [2, 5, 10],\n",
    "    'min_samples_leaf': [1, 2, 4, 6, 8]\n",
    "}\n",
    "\n",
    "# Create the GridSearchCV object\n",
    "grid_search = GridSearchCV(estimator=dt_classifier, \n",
    "                           param_grid=param_grid, \n",
    "                           scoring='accuracy', \n",
    "                           cv=5, \n",
    "                           n_jobs=-1,\n",
    "                           verbose=1)\n",
    "\n",
    "grid_search.fit(x_train, y_train)\n",
    "\n",
    "print(\"Best Parameters:\", grid_search.best_params_)\n",
    "best_model = grid_search.best_estimator_\n",
    "y_pred = best_model.predict(x_val)"
   ]
  },
  {
   "cell_type": "code",
   "execution_count": null,
   "metadata": {},
   "outputs": [],
   "source": []
  },
  {
   "cell_type": "code",
   "execution_count": null,
   "metadata": {},
   "outputs": [],
   "source": []
  },
  {
   "cell_type": "code",
   "execution_count": 23,
   "metadata": {},
   "outputs": [
    {
     "name": "stdout",
     "output_type": "stream",
     "text": [
      "Training set size: 43660\n",
      "Test set size: 10916\n"
     ]
    }
   ],
   "source": [
    "import pandas as pd\n",
    "import numpy as np\n",
    "from sklearn.model_selection import train_test_split\n",
    "\n",
    "df = pd.read_csv(r\"./train.csv\", delimiter=\";\")\n",
    "\n",
    "df['review_title'] = df['review_title'].fillna('')  # Handle NaN values\n",
    "df['combined'] = df['review_content'] + ' ' + df['review_title']\n",
    "df = df.sort_values(['combined', 'review_stars'], ascending=[True, False]).drop_duplicates('combined', keep='first')\n",
    "\n",
    "df['content_length'] = df['review_content'].str.len()\n",
    "df['title_length'] = df['review_title'].str.len()\n",
    "\n",
    "df_sorted = df.sort_values(['review_title', 'content_length', 'title_length', 'review_stars'], \n",
    "                           ascending=[True, False, False, False])\n",
    "\n",
    "# Split the data\n",
    "X = df_sorted.drop('Target', axis=1)\n",
    "y = df_sorted['Target']\n",
    "X_train, X_test, y_train, y_test = train_test_split(X, y, test_size=0.2, random_state=42, shuffle=False)\n",
    "\n",
    "print(f\"Training set size: {len(X_train)}\")\n",
    "print(f\"Test set size: {len(X_test)}\")"
   ]
  },
  {
   "cell_type": "code",
   "execution_count": 24,
   "metadata": {},
   "outputs": [
    {
     "name": "stdout",
     "output_type": "stream",
     "text": [
      "Best parameters: {'vectorizer__max_features': 1000}\n",
      "AUC score with best model: 0.6269865172554048\n"
     ]
    }
   ],
   "source": [
    "from sklearn.feature_extraction.text import CountVectorizer\n",
    "from sklearn.linear_model import LogisticRegression\n",
    "from sklearn.pipeline import Pipeline\n",
    "from sklearn.metrics import roc_auc_score\n",
    "from sklearn.model_selection import GridSearchCV\n",
    "\n",
    "def create_syntactic_features(df):\n",
    "    df['word_count'] = df['review_content'].str.split().str.len()\n",
    "    df['char_count'] = df['review_content'].str.len()\n",
    "    df['avg_word_length'] = df['char_count'] / df['word_count']\n",
    "    df['sentence_count'] = df['review_content'].str.count('\\.')\n",
    "    df['uppercase_count'] = df['review_content'].str.count(r'[A-Z]')\n",
    "    return df\n",
    "\n",
    "X_train = create_syntactic_features(X_train)\n",
    "X_test = create_syntactic_features(X_test)\n",
    "\n",
    "pipeline = Pipeline([\n",
    "    ('vectorizer', CountVectorizer()),\n",
    "    ('classifier', LogisticRegression())\n",
    "])\n",
    "\n",
    "param_grid = {\n",
    "    'vectorizer__max_features': [1000, 3000, 5000, 10000]\n",
    "}\n",
    "\n",
    "grid_search = GridSearchCV(pipeline, param_grid, cv=5, scoring='roc_auc')\n",
    "grid_search.fit(X_train['review_content'], y_train)\n",
    "\n",
    "print(f\"Best parameters: {grid_search.best_params_}\")\n",
    "\n",
    "best_model = grid_search.best_estimator_\n",
    "y_pred_proba = best_model.predict_proba(X_test['review_content'])[:, 1]\n",
    "\n",
    "auc = roc_auc_score(y_test, y_pred_proba)\n",
    "print(f\"AUC score with best model: {auc}\")"
   ]
  }
 ],
 "metadata": {
  "kernelspec": {
   "display_name": "Python 3",
   "language": "python",
   "name": "python3"
  },
  "language_info": {
   "codemirror_mode": {
    "name": "ipython",
    "version": 3
   },
   "file_extension": ".py",
   "mimetype": "text/x-python",
   "name": "python",
   "nbconvert_exporter": "python",
   "pygments_lexer": "ipython3",
   "version": "3.12.0"
  }
 },
 "nbformat": 4,
 "nbformat_minor": 2
}
